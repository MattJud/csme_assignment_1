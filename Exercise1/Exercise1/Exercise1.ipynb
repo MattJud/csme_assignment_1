{
 "cells": [
  {
   "cell_type": "markdown",
   "metadata": {},
   "source": [
    "# Exercise 1:\n",
    "In this exercise you will program a simple neural network with numpy. The tasks will be:\n",
    "1. Implementing a Forward propagation\n",
    "2. Completing the Forward propagation by computing the loss\n",
    "3. Implementing a Back propagation\n",
    "4. Training the neural network\n",
    "\n",
    "You will implement code in 'nn.py' and test your implementations with the code provided below."
   ]
  },
  {
   "cell_type": "code",
   "execution_count": 1,
   "metadata": {},
   "outputs": [],
   "source": [
    "# This code initializes the network (see __init__ in nn.py) and some other functions needed later. \n",
    "# The input data (X) with the associated labels (y) as well as the weights and biases \n",
    "# are initialized with random numbers. A seed is set to make your results comparable.\n",
    "\n",
    "import numpy as np\n",
    "import matplotlib.pyplot as plt\n",
    "from nn import TwoLayerNet\n",
    "\n",
    "input_dim = 4\n",
    "hidden_dim = 10\n",
    "num_classes = 3\n",
    "num_inputs = 5\n",
    "\n",
    "def init_net():\n",
    "    np.random.seed(0)\n",
    "    return TwoLayerNet(input_dim, hidden_dim, num_classes, std=1e-1)\n",
    "\n",
    "def init_data():\n",
    "    np.random.seed(1)\n",
    "    X = 10 * np.random.randn(num_inputs, input_dim)\n",
    "    y = np.array([0, 1, 2, 2, 1])\n",
    "    return X, y\n",
    "\n",
    "def rel_error(x, y):\n",
    "    \"\"\" returns relative error \"\"\"\n",
    "    return np.max(np.abs(x - y) / (np.maximum(1e-8, np.abs(x) + np.abs(y))))\n",
    "\n",
    "%matplotlib inline\n",
    "plt.rcParams['figure.figsize'] = (10.0, 8.0) # set default size of plots\n",
    "plt.rcParams['image.interpolation'] = 'nearest'\n",
    "plt.rcParams['image.cmap'] = 'gray'\n",
    "\n",
    "net = init_net()\n",
    "X, y = init_data()"
   ]
  },
  {
   "cell_type": "markdown",
   "metadata": {},
   "source": [
    "# Forward propagation\n",
    "Go to 'nn.py' to implement the Forward propagation in the loss_grad function (Task 1.1 and Task 1.2).\n",
    "Then test the code below to check your results."
   ]
  },
  {
   "cell_type": "code",
   "execution_count": 11,
   "metadata": {},
   "outputs": [
    {
     "name": "stdout",
     "output_type": "stream",
     "text": [
      "Your scores:\n",
      "[[-0.81233741 -1.27654624 -0.70335995]\n",
      " [-0.17129677 -1.18803311 -0.47310444]\n",
      " [-0.51590475 -1.01354314 -0.8504215 ]\n",
      " [-0.15419291 -0.48629638 -0.52901952]\n",
      " [-0.00618733 -0.12435261 -0.15226949]]\n",
      "\n",
      "correct scores:\n",
      "[[-0.81233741 -1.27654624 -0.70335995]\n",
      " [-0.17129677 -1.18803311 -0.47310444]\n",
      " [-0.51590475 -1.01354314 -0.8504215 ]\n",
      " [-0.15419291 -0.48629638 -0.52901952]\n",
      " [-0.00618733 -0.12435261 -0.15226949]]\n",
      "\n",
      "Difference between your scores and correct scores:\n",
      "3.6802720496109664e-08\n",
      "[2 0 0 0 0]\n"
     ]
    }
   ],
   "source": [
    "scores = net.loss_grad(X)\n",
    "print('Your scores:')\n",
    "print(scores)\n",
    "print()\n",
    "print('correct scores:')\n",
    "correct_scores = np.asarray([\n",
    "  [-0.81233741, -1.27654624, -0.70335995],\n",
    "  [-0.17129677, -1.18803311, -0.47310444],\n",
    "  [-0.51590475, -1.01354314, -0.8504215 ],\n",
    "  [-0.15419291, -0.48629638, -0.52901952],\n",
    "  [-0.00618733, -0.12435261, -0.15226949]])\n",
    "print(correct_scores)\n",
    "print()\n",
    "\n",
    "# The difference should be very small. (< 1e-7)\n",
    "print('Difference between your scores and correct scores:')\n",
    "print(np.sum(np.abs(scores - correct_scores)))"
   ]
  },
  {
   "cell_type": "markdown",
   "metadata": {},
   "source": [
    "# Time difference\n",
    "Add code to measure the time of your naive implementation with at least 2 loops and the implementation with no loops and fill in your results below. \n",
    "Note that 'time' is already imported in the 'nn.py' file which you can use for the time measurement. "
   ]
  },
  {
   "cell_type": "markdown",
   "metadata": {},
   "source": [
    "Duration with 2 loops:"
   ]
  },
  {
   "cell_type": "raw",
   "metadata": {},
   "source": [
    "\n"
   ]
  },
  {
   "cell_type": "markdown",
   "metadata": {},
   "source": [
    "Duration without loops:"
   ]
  },
  {
   "cell_type": "raw",
   "metadata": {},
   "source": [
    "\n"
   ]
  },
  {
   "cell_type": "markdown",
   "metadata": {},
   "source": [
    "# Forwardpass loss\n",
    "Complete the forward propagation by implementing the loss function in 'nn.py' (Task 2).\n",
    "Run the code below to check your implementation."
   ]
  },
  {
   "cell_type": "code",
   "execution_count": 3,
   "metadata": {},
   "outputs": [
    {
     "name": "stdout",
     "output_type": "stream",
     "text": [
      "Difference between your loss and correct loss:\n",
      "1.794120407794253e-13\n"
     ]
    }
   ],
   "source": [
    "loss, _ = net.loss_grad(X, y, reg=0.05)\n",
    "correct_loss = 1.30378789133\n",
    "\n",
    "# should be very small, (< 1e-12)\n",
    "print('Difference between your loss and correct loss:')\n",
    "print(np.sum(np.abs(loss - correct_loss)))"
   ]
  },
  {
   "cell_type": "markdown",
   "metadata": {},
   "source": [
    "# Numerical issues with Softmax\n",
    "\n",
    "Please describe the two main issues that can lead to numerical instability when using the softmax function? Describe a/your approach of avoiding instabilities with softmax."
   ]
  },
  {
   "cell_type": "raw",
   "metadata": {},
   "source": []
  },
  {
   "cell_type": "markdown",
   "metadata": {},
   "source": [
    "# Back propagation\n",
    "Now implement the Back propagation in 'nn.py' (Task 3) in the loss_grad function.\n",
    "Test the code below to check your results."
   ]
  },
  {
   "cell_type": "code",
   "execution_count": 4,
   "metadata": {},
   "outputs": [
    {
     "name": "stdout",
     "output_type": "stream",
     "text": [
      "grads =  {'W1': array([[-0.11449043,  0.        , -0.21530521,  0.16557742,  0.14185607,\n",
      "         0.        ,  0.        ,  0.00420242, -0.02907009, -0.00978401],\n",
      "       [ 0.04311907,  0.        ,  0.68790512, -0.28983308, -0.27142562,\n",
      "         0.        ,  0.        ,  0.02139514, -0.06860078, -0.52438769],\n",
      "       [ 0.03722768,  0.        , -0.24026791, -0.05521739, -0.02411394,\n",
      "         0.        ,  0.        , -0.00102883,  0.52034024,  0.35503841],\n",
      "       [ 0.07562717,  0.        , -0.30490047,  0.24667653,  0.21015783,\n",
      "         0.        ,  0.        , -0.01420436, -0.67506977,  0.10158033]]), 'b1': array([[-0.0070484 ],\n",
      "       [ 0.        ],\n",
      "       [ 0.00310494],\n",
      "       [-0.0072399 ],\n",
      "       [-0.00573377],\n",
      "       [ 0.        ],\n",
      "       [ 0.        ],\n",
      "       [-0.0024372 ],\n",
      "       [ 0.04121605],\n",
      "       [ 0.02236176]]), 'W2': array([[-0.50327916,  0.18143311,  0.32184605],\n",
      "       [ 0.        ,  0.        ,  0.        ],\n",
      "       [ 0.30475713,  0.11112199, -0.41587912],\n",
      "       [-0.23099367,  0.19524287,  0.03575081],\n",
      "       [ 0.78328285, -0.3424267 , -0.44085614],\n",
      "       [ 0.        ,  0.        ,  0.        ],\n",
      "       [ 0.        ,  0.        ,  0.        ],\n",
      "       [ 0.06532369, -0.12176903,  0.05644533],\n",
      "       [ 0.63027968, -0.08038454, -0.54989514],\n",
      "       [ 0.88470717, -0.59563636, -0.28907081]]), 'b2': array([[ 0.2099691],\n",
      "       [-0.1431905],\n",
      "       [-0.0667786]])}\n",
      "W1 max relative error: 1.000000e+00\n",
      "b1 max relative error: 1.000000e+00\n",
      "W2 max relative error: 1.000000e+00\n",
      "b2 max relative error: 1.000000e+00\n"
     ]
    }
   ],
   "source": [
    "from eval_grad import numerical_grad\n",
    "\n",
    "# Here we use a numeric gradient to check your implementation of the back propagation.\n",
    "# If your implementation is correct, the difference between the numeric and\n",
    "# analytic gradients should be less than 1e-8 for each of W1, W2, b1, and b2.\n",
    "\n",
    "loss, grads = net.loss_grad(X, y, reg=0.05)\n",
    "print(\"grads = \", grads)\n",
    "# these should all be less than 1e-8\n",
    "for param_name in grads:\n",
    "    f = lambda W: net.loss_grad(X, y, reg=0.05)[0]\n",
    "    param_grad_num = numerical_grad(f, net.params[param_name], verbose=False)\n",
    "    print('%s max relative error: %e' % (param_name, rel_error(param_grad_num, grads[param_name])))"
   ]
  },
  {
   "cell_type": "markdown",
   "metadata": {},
   "source": [
    "# Training a network\n",
    "Finaly we want to train our network. For this purpose go to 'nn.py' and implement the train and predict function (Task 4.1, 4.2 and 4.3).\n",
    "Then test the code below to check your results."
   ]
  },
  {
   "cell_type": "code",
   "execution_count": null,
   "metadata": {},
   "outputs": [],
   "source": [
    "net = init_net()\n",
    "stats = net.train(X, y, X, y,\n",
    "            learning_rate=1e-1, reg=5e-6,\n",
    "            num_iters=100, verbose=False)\n",
    "\n",
    "print('Final training loss: ', stats['loss_history'][-1])\n",
    "\n",
    "# plot the loss history\n",
    "plt.plot(stats['loss_history'])\n",
    "plt.xlabel('iteration')\n",
    "plt.ylabel('training loss')\n",
    "plt.title('Training Loss history')\n",
    "plt.show()"
   ]
  },
  {
   "cell_type": "markdown",
   "metadata": {},
   "source": [
    "# Iterations\n",
    "Please explain at least how many iterations are useful for training this neural network (use the plot above for your explanation)?"
   ]
  },
  {
   "cell_type": "raw",
   "metadata": {},
   "source": []
  },
  {
   "cell_type": "code",
   "execution_count": null,
   "metadata": {},
   "outputs": [],
   "source": []
  }
 ],
 "metadata": {
  "kernelspec": {
   "display_name": "Python 3",
   "language": "python",
   "name": "python3"
  },
  "language_info": {
   "codemirror_mode": {
    "name": "ipython",
    "version": 3
   },
   "file_extension": ".py",
   "mimetype": "text/x-python",
   "name": "python",
   "nbconvert_exporter": "python",
   "pygments_lexer": "ipython3",
   "version": "3.7.4"
  }
 },
 "nbformat": 4,
 "nbformat_minor": 2
}
